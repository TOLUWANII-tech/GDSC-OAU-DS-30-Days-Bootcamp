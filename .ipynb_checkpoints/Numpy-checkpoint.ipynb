{
 "cells": [
  {
   "cell_type": "code",
   "execution_count": 1,
   "id": "c171fadd",
   "metadata": {},
   "outputs": [],
   "source": [
    "import numpy as np"
   ]
  },
  {
   "cell_type": "code",
   "execution_count": 2,
   "id": "1170f218",
   "metadata": {},
   "outputs": [],
   "source": [
    "from time import process_time"
   ]
  },
  {
   "cell_type": "code",
   "execution_count": 7,
   "id": "e4ceb145",
   "metadata": {
    "scrolled": true
   },
   "outputs": [
    {
     "name": "stdout",
     "output_type": "stream",
     "text": [
      "0.015625\n"
     ]
    }
   ],
   "source": [
    "python_list = [i for i in range(10000)]\n",
    "\n",
    "start_time = process_time()\n",
    "\n",
    "python_list = [i+5 for i in python_list]\n",
    "\n",
    "end_time = process_time()\n",
    "\n",
    "print(end_time-start_time)\n"
   ]
  },
  {
   "cell_type": "code",
   "execution_count": 14,
   "id": "d130c940",
   "metadata": {},
   "outputs": [
    {
     "name": "stdout",
     "output_type": "stream",
     "text": [
      "0.0\n"
     ]
    }
   ],
   "source": [
    "array = np.array([i for i in range(10000)])\n",
    "\n",
    "\n",
    "start_time = process_time()\n",
    "\n",
    "array += 5\n",
    "\n",
    "end_time = process_time()\n",
    "\n",
    "\n",
    "print(end_time-start_time)"
   ]
  },
  {
   "cell_type": "markdown",
   "id": "6c26a9f8",
   "metadata": {},
   "source": [
    "### numpy arrays"
   ]
  },
  {
   "cell_type": "code",
   "execution_count": 18,
   "id": "3f61fe5a",
   "metadata": {},
   "outputs": [
    {
     "name": "stdout",
     "output_type": "stream",
     "text": [
      "[1 2 3 4 5]\n"
     ]
    },
    {
     "data": {
      "text/plain": [
       "numpy.ndarray"
      ]
     },
     "execution_count": 18,
     "metadata": {},
     "output_type": "execute_result"
    }
   ],
   "source": [
    "#Creating a 1d array\n",
    "a = np.array([1,2,3,4,5])\n",
    "print(a)\n",
    "type(a)"
   ]
  },
  {
   "cell_type": "code",
   "execution_count": 19,
   "id": "384027ce",
   "metadata": {
    "scrolled": true
   },
   "outputs": [
    {
     "data": {
      "text/plain": [
       "(5,)"
      ]
     },
     "execution_count": 19,
     "metadata": {},
     "output_type": "execute_result"
    }
   ],
   "source": [
    "a.shape"
   ]
  },
  {
   "cell_type": "code",
   "execution_count": 20,
   "id": "779ae5f3",
   "metadata": {},
   "outputs": [
    {
     "data": {
      "text/plain": [
       "(2, 4)"
      ]
     },
     "execution_count": 20,
     "metadata": {},
     "output_type": "execute_result"
    }
   ],
   "source": [
    "#Creating a 2D array\n",
    "b = np.array([[1,2,3,4],[5,6,7,8,]])\n",
    "\n",
    "b\n",
    "b.shape"
   ]
  },
  {
   "cell_type": "code",
   "execution_count": 21,
   "id": "eb1a7c28",
   "metadata": {},
   "outputs": [
    {
     "data": {
      "text/plain": [
       "array([[1, 2, 3, 4],\n",
       "       [5, 6, 7, 8]])"
      ]
     },
     "execution_count": 21,
     "metadata": {},
     "output_type": "execute_result"
    }
   ],
   "source": [
    "b"
   ]
  },
  {
   "cell_type": "code",
   "execution_count": 22,
   "id": "5de4d578",
   "metadata": {},
   "outputs": [
    {
     "data": {
      "text/plain": [
       "array([[1., 2., 3., 4.],\n",
       "       [5., 6., 7., 8.]])"
      ]
     },
     "execution_count": 22,
     "metadata": {},
     "output_type": "execute_result"
    }
   ],
   "source": [
    "c=np.array([[1,2,3,4],[5,6,7,8]], dtype=float)\n",
    "c"
   ]
  },
  {
   "cell_type": "markdown",
   "id": "29ee1362",
   "metadata": {},
   "source": [
    "### Initial Placeholders in Numpy Arrays"
   ]
  },
  {
   "cell_type": "code",
   "execution_count": 23,
   "id": "1d541eb7",
   "metadata": {},
   "outputs": [
    {
     "data": {
      "text/plain": [
       "array([[0., 0., 0., 0., 0.],\n",
       "       [0., 0., 0., 0., 0.],\n",
       "       [0., 0., 0., 0., 0.],\n",
       "       [0., 0., 0., 0., 0.]])"
      ]
     },
     "execution_count": 23,
     "metadata": {},
     "output_type": "execute_result"
    }
   ],
   "source": [
    "#Creating an array with initial values of 0\n",
    "\n",
    "x = np.zeros((4,5))#Creating an array of zeros that have 4 rows and 5 colukns\n",
    "x"
   ]
  },
  {
   "cell_type": "code",
   "execution_count": 24,
   "id": "b9e87215",
   "metadata": {},
   "outputs": [
    {
     "data": {
      "text/plain": [
       "array([[1., 1., 1.],\n",
       "       [1., 1., 1.],\n",
       "       [1., 1., 1.]])"
      ]
     },
     "execution_count": 24,
     "metadata": {},
     "output_type": "execute_result"
    }
   ],
   "source": [
    "#Creating a numpy array of ones\n",
    "y = np.ones((3,3))\n",
    "y"
   ]
  },
  {
   "cell_type": "code",
   "execution_count": 25,
   "id": "3c2fc7be",
   "metadata": {},
   "outputs": [
    {
     "data": {
      "text/plain": [
       "array([[5, 5, 5, 5],\n",
       "       [5, 5, 5, 5],\n",
       "       [5, 5, 5, 5],\n",
       "       [5, 5, 5, 5],\n",
       "       [5, 5, 5, 5]])"
      ]
     },
     "execution_count": 25,
     "metadata": {},
     "output_type": "execute_result"
    }
   ],
   "source": [
    "#Creattiing an array of a particular value\n",
    "z = np.full((5,4),5)\n",
    "z\n",
    "\n",
    "#The code above creates an array with all elements containing a specific value. This is achieved using the .full() method."
   ]
  },
  {
   "cell_type": "code",
   "execution_count": 27,
   "id": "a10fbf71",
   "metadata": {},
   "outputs": [
    {
     "data": {
      "text/plain": [
       "array([[1., 0., 0., 0.],\n",
       "       [0., 1., 0., 0.],\n",
       "       [0., 0., 1., 0.],\n",
       "       [0., 0., 0., 1.]])"
      ]
     },
     "execution_count": 27,
     "metadata": {},
     "output_type": "execute_result"
    }
   ],
   "source": [
    "#Creating an identity matrix using numpy array. Identity matrices have the same number of rows and columns.\n",
    "i = np.eye(4)#WE only need to specify one value(sice number of rows and columns are the ame)\n",
    "i"
   ]
  },
  {
   "cell_type": "code",
   "execution_count": 32,
   "id": "0c320684",
   "metadata": {},
   "outputs": [
    {
     "data": {
      "text/plain": [
       "array([[0.01892829, 0.70580243, 0.31482896, 0.14944125],\n",
       "       [0.32655026, 0.69984195, 0.34792896, 0.82233281],\n",
       "       [0.15009991, 0.99740451, 0.24124052, 0.68071264]])"
      ]
     },
     "execution_count": 32,
     "metadata": {},
     "output_type": "execute_result"
    }
   ],
   "source": [
    "#Creating an array with random values\n",
    "r = np.random.random((3,4))\n",
    "r\n",
    "#All the values will be between zero and one."
   ]
  },
  {
   "cell_type": "code",
   "execution_count": 34,
   "id": "de7acfd7",
   "metadata": {},
   "outputs": [
    {
     "data": {
      "text/plain": [
       "array([[11, 32, 31, 91, 15],\n",
       "       [45, 60, 55, 15, 69],\n",
       "       [88, 55, 18, 85, 23]])"
      ]
     },
     "execution_count": 34,
     "metadata": {},
     "output_type": "execute_result"
    }
   ],
   "source": [
    "#Creating an array with random integers within a specific range.\n",
    "c = np.random.randint(10,100, (3,5))\n",
    "c\n",
    "\n",
    "# ... .randint(beginning_number, end_number, (rows, columns))"
   ]
  },
  {
   "cell_type": "code",
   "execution_count": 36,
   "id": "e3ed0889",
   "metadata": {},
   "outputs": [
    {
     "data": {
      "text/plain": [
       "array([10., 15., 20., 25., 30.])"
      ]
     },
     "execution_count": 36,
     "metadata": {},
     "output_type": "execute_result"
    }
   ],
   "source": [
    "#Creating an array of evenly spaced values... specifying the range and the number of values you want\n",
    "d = np.linspace(10,30,5)\n",
    "d"
   ]
  },
  {
   "cell_type": "code",
   "execution_count": 38,
   "id": "a27527b8",
   "metadata": {},
   "outputs": [
    {
     "data": {
      "text/plain": [
       "array([10, 15, 20, 25])"
      ]
     },
     "execution_count": 38,
     "metadata": {},
     "output_type": "execute_result"
    }
   ],
   "source": [
    "#Array of evenly spaced values, specifying the range and the step\n",
    "e = np.arange(10,30,5)\n",
    "e"
   ]
  },
  {
   "cell_type": "code",
   "execution_count": 41,
   "id": "c1abb205",
   "metadata": {},
   "outputs": [
    {
     "name": "stdout",
     "output_type": "stream",
     "text": [
      "[10 20 20 20 50]\n"
     ]
    },
    {
     "data": {
      "text/plain": [
       "numpy.ndarray"
      ]
     },
     "execution_count": 41,
     "metadata": {},
     "output_type": "execute_result"
    }
   ],
   "source": [
    "#Converting a list to a numpy to an array\n",
    "list2 = [10,20,20,20,50]\n",
    "\n",
    "np_array2 = np.asarray(list2)\n",
    "print(np_array2)\n",
    "type(np_array2)"
   ]
  },
  {
   "cell_type": "markdown",
   "id": "71796e03",
   "metadata": {},
   "source": [
    "### Analysing a numpy array"
   ]
  },
  {
   "cell_type": "code",
   "execution_count": 42,
   "id": "298d285f",
   "metadata": {},
   "outputs": [
    {
     "data": {
      "text/plain": [
       "array([[11, 43, 14, 45, 62],\n",
       "       [21, 72, 66, 55, 71],\n",
       "       [26, 40, 67, 89, 70],\n",
       "       [20, 88, 38, 82, 86],\n",
       "       [71, 50, 20, 70, 14]])"
      ]
     },
     "execution_count": 42,
     "metadata": {},
     "output_type": "execute_result"
    }
   ],
   "source": [
    "c = np.random.randint(10, 90, (5,5))\n",
    "c"
   ]
  },
  {
   "cell_type": "code",
   "execution_count": 45,
   "id": "e4531941",
   "metadata": {},
   "outputs": [
    {
     "name": "stdout",
     "output_type": "stream",
     "text": [
      "(5, 5)\n",
      "2\n",
      "25\n",
      "int32\n"
     ]
    }
   ],
   "source": [
    "#Array dimension\n",
    "print(c.shape)\n",
    "\n",
    "#number of dimensions\n",
    "print(c.ndim)\n",
    "\n",
    "#number of elements in an array\n",
    "print(c.size)\n",
    "\n",
    "#checking the datatype of values in the array\n",
    "print(c.dtype)"
   ]
  },
  {
   "cell_type": "markdown",
   "id": "3805d2aa",
   "metadata": {},
   "source": [
    "### Mathematical operations on an np array\n"
   ]
  },
  {
   "cell_type": "code",
   "execution_count": 46,
   "id": "de582f77",
   "metadata": {},
   "outputs": [
    {
     "data": {
      "text/plain": [
       "[1, 2, 3, 4, 5, 6, 7, 8, 9, 10]"
      ]
     },
     "execution_count": 46,
     "metadata": {},
     "output_type": "execute_result"
    }
   ],
   "source": [
    "list4 = [1,2,3,4,5]\n",
    "list5 = [6,7,8,9,10]\n",
    "\n",
    "list4+list5\n",
    "#When you use tha ddition operation between two lists it concatenates the two lists"
   ]
  },
  {
   "cell_type": "code",
   "execution_count": 49,
   "id": "9ab3b1e7",
   "metadata": {},
   "outputs": [
    {
     "name": "stdout",
     "output_type": "stream",
     "text": [
      "[[9 9 4]\n",
      " [3 8 0]\n",
      " [9 7 8]]\n",
      "[[19 11 11]\n",
      " [14 10 19]\n",
      " [19 18 17]]\n"
     ]
    }
   ],
   "source": [
    "s = np.random.randint(0,10,(3,3))\n",
    "t = np.random.randint(10,20,(3,3))\n",
    "\n",
    "print(s)\n",
    "print(t)\n",
    "\n"
   ]
  },
  {
   "cell_type": "code",
   "execution_count": 51,
   "id": "5e75623f",
   "metadata": {},
   "outputs": [
    {
     "name": "stdout",
     "output_type": "stream",
     "text": [
      "[[28 20 15]\n",
      " [17 18 19]\n",
      " [28 25 25]]\n",
      "[[-10  -2  -7]\n",
      " [-11  -2 -19]\n",
      " [-10 -11  -9]]\n",
      "[[0.47368421 0.81818182 0.36363636]\n",
      " [0.21428571 0.8        0.        ]\n",
      " [0.47368421 0.38888889 0.47058824]]\n",
      "[[171  99  44]\n",
      " [ 42  80   0]\n",
      " [171 126 136]]\n"
     ]
    }
   ],
   "source": [
    "print(s+t)\n",
    "\n",
    "print(s-t)\n",
    "\n",
    "print(s/t)\n",
    "\n",
    "print(s*t)"
   ]
  },
  {
   "cell_type": "code",
   "execution_count": 52,
   "id": "390dad05",
   "metadata": {},
   "outputs": [
    {
     "name": "stdout",
     "output_type": "stream",
     "text": [
      "[1 2 3 4 5]\n",
      "[[1 2 3 4]\n",
      " [5 6 7 8]]\n",
      "[[22 13 25]\n",
      " [12 21 12]\n",
      " [15 21 21]]\n",
      "[[-12 -13 -11]\n",
      " [ -8  -5 -10]\n",
      " [ -7 -15 -17]]\n",
      "[[0.29411765 0.         0.38888889]\n",
      " [0.2        0.61538462 0.09090909]\n",
      " [0.36363636 0.16666667 0.10526316]]\n",
      "[[ 85   0 126]\n",
      " [ 20 104  11]\n",
      " [ 44  54  38]]\n"
     ]
    }
   ],
   "source": [
    "\n",
    "s = np.random.randint(0,10,(3,3))\n",
    "t = np.random.randint(10,20,(3,3))\n",
    "\n",
    "print(a)\n",
    "print(b)\n",
    "print(np.add(s,t))\n",
    "print(np.subtract(s,t))\n",
    "print(np.divide(s,t))\n",
    "print(np.multiply(s,t))\n"
   ]
  },
  {
   "cell_type": "markdown",
   "id": "a7788bcf",
   "metadata": {},
   "source": [
    "### Array Manipulation"
   ]
  },
  {
   "cell_type": "code",
   "execution_count": 53,
   "id": "3ecebae2",
   "metadata": {},
   "outputs": [
    {
     "name": "stdout",
     "output_type": "stream",
     "text": [
      "[[8 5 1]\n",
      " [7 9 6]]\n",
      "(2, 3)\n"
     ]
    }
   ],
   "source": [
    "array = np.random.randint(0,10,(2,3))\n",
    "print(array)\n",
    "print(array.shape)\n"
   ]
  },
  {
   "cell_type": "code",
   "execution_count": 55,
   "id": "61b48e8a",
   "metadata": {
    "scrolled": true
   },
   "outputs": [
    {
     "name": "stdout",
     "output_type": "stream",
     "text": [
      "[[8 7]\n",
      " [5 9]\n",
      " [1 6]]\n",
      "(3, 2)\n"
     ]
    }
   ],
   "source": [
    "#Transpose of an array\n",
    "trans = np.transpose(array)\n",
    "print(trans)\n",
    "print(trans.shape)"
   ]
  },
  {
   "cell_type": "code",
   "execution_count": 56,
   "id": "6d585155",
   "metadata": {},
   "outputs": [
    {
     "name": "stdout",
     "output_type": "stream",
     "text": [
      "[[0 8 7]\n",
      " [8 1 5]]\n",
      "(2, 3)\n",
      "[[0 8]\n",
      " [8 1]\n",
      " [7 5]] (3, 2)\n"
     ]
    }
   ],
   "source": [
    "array = np.random.randint(0,10,(2,3))\n",
    "print(array)\n",
    "print(array.shape)\n",
    "\n",
    "\n",
    "#Another way of finding transpose\n",
    "trans2 = array.T\n",
    "print(trans2, trans2.shape)"
   ]
  },
  {
   "cell_type": "code",
   "execution_count": 58,
   "id": "fe162822",
   "metadata": {},
   "outputs": [
    {
     "name": "stdout",
     "output_type": "stream",
     "text": [
      "[[3 0 8]\n",
      " [3 0 4]]\n",
      "(2, 3)\n"
     ]
    }
   ],
   "source": [
    "#Reshaping an array\n",
    "\n",
    "a = np.random.randint(0, 10, (2,3))\n",
    "print(a)\n",
    "print(a.shape)"
   ]
  },
  {
   "cell_type": "code",
   "execution_count": 59,
   "id": "5b9b905c",
   "metadata": {},
   "outputs": [
    {
     "name": "stdout",
     "output_type": "stream",
     "text": [
      "[[3 0]\n",
      " [8 3]\n",
      " [0 4]]\n",
      "(3, 2)\n"
     ]
    }
   ],
   "source": [
    "b = a.reshape(3,2)\n",
    "print(b)\n",
    "print(b.shape)"
   ]
  }
 ],
 "metadata": {
  "kernelspec": {
   "display_name": "Python 3 (ipykernel)",
   "language": "python",
   "name": "python3"
  },
  "language_info": {
   "codemirror_mode": {
    "name": "ipython",
    "version": 3
   },
   "file_extension": ".py",
   "mimetype": "text/x-python",
   "name": "python",
   "nbconvert_exporter": "python",
   "pygments_lexer": "ipython3",
   "version": "3.11.4"
  }
 },
 "nbformat": 4,
 "nbformat_minor": 5
}
